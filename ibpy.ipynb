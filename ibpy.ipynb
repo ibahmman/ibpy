{
 "cells": [
  {
   "cell_type": "code",
   "execution_count": 37,
   "metadata": {},
   "outputs": [
    {
     "name": "stdout",
     "output_type": "stream",
     "text": [
      "Hello World\n",
      "700\n",
      "Number: 200\n",
      "Hello World->500.600.700\n"
     ]
    }
   ],
   "source": [
    "# print :\n",
    "print('Hello World')\n",
    "print(700)\n",
    "print('Hello World', end='->') # end default = \\n\n",
    "print('Number:', 200)\n",
    "print(500, 600, 700, sep='.')"
   ]
  },
  {
   "cell_type": "code",
   "execution_count": 32,
   "metadata": {},
   "outputs": [
    {
     "name": "stdout",
     "output_type": "stream",
     "text": [
      "<class 'str'>\n",
      "<class 'int'>\n",
      "<class 'float'>\n",
      "<class 'bool'>\n",
      "zapata\\500\\50.0\\True\n"
     ]
    }
   ],
   "source": [
    "# variables :\n",
    "name = 'zapata'\n",
    "num = 500\n",
    "n = 50.0\n",
    "b = True\n",
    "print(type(name), type(num), type(n), type(b), sep='\\n')\n",
    "print(name, num, n, b, sep='\\\\')"
   ]
  },
  {
   "cell_type": "code",
   "execution_count": null,
   "metadata": {},
   "outputs": [],
   "source": [
    "# PascalCase : Classes, Propertys -> UserStatus\n",
    "# camelCase  : function arguments, variables, json keys -> userId\n",
    "# snake_case : functions, variables, methods -> user_id"
   ]
  },
  {
   "cell_type": "code",
   "execution_count": 35,
   "metadata": {},
   "outputs": [
    {
     "name": "stdout",
     "output_type": "stream",
     "text": [
      "bahman 500\n"
     ]
    }
   ],
   "source": [
    "# input :\n",
    "name = input()\n",
    "number = int(input('Enter a number:'))\n",
    "print(name, number)"
   ]
  },
  {
   "cell_type": "code",
   "execution_count": 7,
   "metadata": {},
   "outputs": [
    {
     "name": "stdout",
     "output_type": "stream",
     "text": [
      "<class 'int'>\n",
      "5.0\n",
      "<class 'float'>\n",
      "6\n"
     ]
    }
   ],
   "source": [
    "# convert variables :\n",
    "n1 = 5\n",
    "print(type(n1), float(n1), sep='\\n')\n",
    "\n",
    "n2 = 6.18\n",
    "print(type(n2), int(n2), sep='\\n')"
   ]
  },
  {
   "cell_type": "code",
   "execution_count": 18,
   "metadata": {},
   "outputs": [
    {
     "name": "stdout",
     "output_type": "stream",
     "text": [
      "** : 36\n",
      "% : 0\n",
      "/ : 3.0\n",
      "// : 3\n",
      "* : 12\n",
      "- : 4\n",
      "+ : 8\n",
      "20\n"
     ]
    }
   ],
   "source": [
    "# ops : **, %, /, //, *, -, + :\n",
    "n1 = 6\n",
    "n2 = 2\n",
    "print('** :', n1 ** n2)\n",
    "print('% :', n1 % n2)\n",
    "print('/ :', n1 / n2)\n",
    "print('// :', n1 // n2)\n",
    "print('* :', n1 * n2)\n",
    "print('- :', n1 - n2)\n",
    "print('+ :', n1 + n2)\n",
    "print(n2 + n1 * (n1 // n2 * 3) % 6 ** 2) # 1:6 ** 2 = 36, 2:() = 9, 3:6 * 9 = 54, 4:54 % 36 = 18, 5:18 + 2"
   ]
  },
  {
   "cell_type": "code",
   "execution_count": 21,
   "metadata": {},
   "outputs": [
    {
     "name": "stdout",
     "output_type": "stream",
     "text": [
      "helloworld\n",
      "helloworldhelloworld\n"
     ]
    }
   ],
   "source": [
    "# *, + in string :\n",
    "s1 = 'hello'\n",
    "s2 = 'world'\n",
    "s3 = s1 + s2\n",
    "print(s3)\n",
    "print(s3 * 2)"
   ]
  },
  {
   "cell_type": "code",
   "execution_count": 27,
   "metadata": {},
   "outputs": [
    {
     "name": "stdout",
     "output_type": "stream",
     "text": [
      "False\n",
      "True\n",
      "True\n",
      "False\n",
      "False\n",
      "True\n"
     ]
    }
   ],
   "source": [
    "# ops : ==, !=, <, >, <=, >= :\n",
    "print(5 > 6)\n",
    "print(5 < 6)\n",
    "print(5 == 5)\n",
    "print(5 == 6)\n",
    "print(5 != 5)\n",
    "print(5 != 6)"
   ]
  },
  {
   "cell_type": "code",
   "execution_count": 33,
   "metadata": {},
   "outputs": [
    {
     "name": "stdout",
     "output_type": "stream",
     "text": [
      "<class 'bool'>\n",
      "False\n",
      "False\n",
      "False\n",
      "True\n"
     ]
    }
   ],
   "source": [
    "# and, or, not :\n",
    "\"\"\"\n",
    "and:\n",
    "    True  and True  = True\n",
    "    True  and False = False\n",
    "    False and True  = False\n",
    "    False and False = False\n",
    "\n",
    "or:\n",
    "    True  or True  = True\n",
    "    True  or False = True\n",
    "    False or True  = True\n",
    "    False or False = False\n",
    "\n",
    "not:\n",
    "    not True  = False\n",
    "    not False = True\n",
    "\"\"\"\n",
    "t1 = 5 > 6\n",
    "print(type(t1), t1, sep='\\n')\n",
    "\n",
    "t2 = True\n",
    "print(not t2)\n",
    "\n",
    "t3 = t1 and t2\n",
    "print(t3)\n",
    "\n",
    "t4 = t1 or t2\n",
    "print(t4)"
   ]
  },
  {
   "cell_type": "code",
   "execution_count": 40,
   "metadata": {},
   "outputs": [
    {
     "name": "stdout",
     "output_type": "stream",
     "text": [
      "True\n"
     ]
    }
   ],
   "source": [
    "# if :\n",
    "if True:\n",
    "    print('True')\n",
    "\n",
    "if False:\n",
    "    print('False')"
   ]
  },
  {
   "cell_type": "code",
   "execution_count": 42,
   "metadata": {},
   "outputs": [
    {
     "name": "stdout",
     "output_type": "stream",
     "text": [
      "Ok\n"
     ]
    }
   ],
   "source": [
    "n1 = 5\n",
    "n2 = 6\n",
    "if n1 <= n2:\n",
    "    print('Ok')\n",
    "\n",
    "if n1 == n2:    # if n1 != n2: answer?\n",
    "    print('n1 == n2')\n",
    "\n",
    "# print(n1 + n2)    print('n1 + n2')"
   ]
  },
  {
   "cell_type": "code",
   "execution_count": 46,
   "metadata": {},
   "outputs": [
    {
     "name": "stdout",
     "output_type": "stream",
     "text": [
      "3 is integer\n"
     ]
    }
   ],
   "source": [
    "if type(3) is int:\n",
    "    print('3 is integer')\n",
    "\n",
    "if 'Hello' == 'hello': # Hello != hello\n",
    "    print('hi')"
   ]
  },
  {
   "cell_type": "code",
   "execution_count": 3,
   "metadata": {},
   "outputs": [
    {
     "name": "stdout",
     "output_type": "stream",
     "text": [
      "[]\n",
      "[]\n",
      "[1, 2, 3, 4, 5]\n",
      "['a', 'b', 'c', 'd']\n"
     ]
    }
   ],
   "source": [
    "# List :\n",
    "list_1 = list()\n",
    "list_2 = []\n",
    "list_3 = [1, 2, 3, 4, 5]\n",
    "list_4 = ['a', 'b', 'c', 'd']\n",
    "print(list_1, list_2, list_3, list_4, sep='\\n')"
   ]
  },
  {
   "cell_type": "code",
   "execution_count": 9,
   "metadata": {},
   "outputs": [
    {
     "name": "stdout",
     "output_type": "stream",
     "text": [
      "[1, 2, 3, 4, 5, 'a', 'b', 'c', 'd']\n"
     ]
    }
   ],
   "source": [
    "# list  + :\n",
    "list_1 = [1, 2, 3, 4, 5]\n",
    "list_2 = ['a', 'b', 'c', 'd']\n",
    "list_3 = list_1 + list_2\n",
    "print(list_3)"
   ]
  },
  {
   "cell_type": "code",
   "execution_count": 10,
   "metadata": {},
   "outputs": [
    {
     "name": "stdout",
     "output_type": "stream",
     "text": [
      "[1, 2, 3, 4, 5, 'hello']\n"
     ]
    }
   ],
   "source": [
    "# list append :\n",
    "list_1 = [1, 2, 3, 4, 5]\n",
    "list_1.append('hello')\n",
    "print(list_1)"
   ]
  },
  {
   "cell_type": "code",
   "execution_count": 13,
   "metadata": {},
   "outputs": [
    {
     "name": "stdout",
     "output_type": "stream",
     "text": [
      "[1, 3, 4, 5]\n"
     ]
    }
   ],
   "source": [
    "# list remove :\n",
    "list_1 = [1, 2, 3, 4, 5]\n",
    "list_1.remove(2)\n",
    "print(list_1)"
   ]
  },
  {
   "cell_type": "code",
   "execution_count": 1,
   "metadata": {},
   "outputs": [
    {
     "name": "stdout",
     "output_type": "stream",
     "text": [
      "hello\n",
      "hello\n",
      "hello\n",
      "hello\n",
      "hello\n",
      "0\n",
      "1\n",
      "2\n",
      "3\n",
      "4\n"
     ]
    }
   ],
   "source": [
    "# for :\n",
    "for i in range(5):\n",
    "    print('hello world')\n",
    "\n",
    "for i in range(5):\n",
    "    print(i)"
   ]
  },
  {
   "cell_type": "code",
   "execution_count": 12,
   "metadata": {},
   "outputs": [
    {
     "name": "stdout",
     "output_type": "stream",
     "text": [
      "['2', '3', '4', '5', '6']\n"
     ]
    }
   ],
   "source": [
    "# list append, for\n",
    "lst = list()\n",
    "for i in range(5):\n",
    "    lst.append(input('Enter value:'))\n",
    "print(lst)"
   ]
  }
 ],
 "metadata": {
  "kernelspec": {
   "display_name": "Python 3.10.4 64-bit",
   "language": "python",
   "name": "python3"
  },
  "language_info": {
   "codemirror_mode": {
    "name": "ipython",
    "version": 3
   },
   "file_extension": ".py",
   "mimetype": "text/x-python",
   "name": "python",
   "nbconvert_exporter": "python",
   "pygments_lexer": "ipython3",
   "version": "3.10.4"
  },
  "orig_nbformat": 4,
  "vscode": {
   "interpreter": {
    "hash": "f00dd8a3f793a615cab4e5ef81a61e6ce77f90bb4a0cf2eeb548ee70dcc88da5"
   }
  }
 },
 "nbformat": 4,
 "nbformat_minor": 2
}
