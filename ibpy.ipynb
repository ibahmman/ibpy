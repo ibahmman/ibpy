{
 "cells": [
  {
   "cell_type": "code",
   "execution_count": 37,
   "metadata": {},
   "outputs": [
    {
     "name": "stdout",
     "output_type": "stream",
     "text": [
      "Hello World\n",
      "700\n",
      "Number: 200\n",
      "Hello World->500.600.700\n"
     ]
    }
   ],
   "source": [
    "# print :\n",
    "print('Hello World')\n",
    "print(700)\n",
    "print('Hello World', end='->') # end default = \\n\n",
    "print('Number:', 200)\n",
    "print(500, 600, 700, sep='.')"
   ]
  },
  {
   "cell_type": "code",
   "execution_count": 32,
   "metadata": {},
   "outputs": [
    {
     "name": "stdout",
     "output_type": "stream",
     "text": [
      "<class 'str'>\n",
      "<class 'int'>\n",
      "<class 'float'>\n",
      "<class 'bool'>\n",
      "zapata\\500\\50.0\\True\n"
     ]
    }
   ],
   "source": [
    "# variables :\n",
    "name = 'zapata'\n",
    "num = 500\n",
    "n = 50.0\n",
    "b = True\n",
    "print(type(name), type(num), type(n), type(b), sep='\\n')\n",
    "print(name, num, n, b, sep='\\\\')"
   ]
  },
  {
   "cell_type": "code",
   "execution_count": null,
   "metadata": {},
   "outputs": [],
   "source": [
    "# PascalCase : Classes, Propertys -> UserStatus\n",
    "# camelCase  : function arguments, variables, json keys -> userId\n",
    "# snake_case : functions, variables, methods -> user_id"
   ]
  },
  {
   "cell_type": "code",
   "execution_count": 35,
   "metadata": {},
   "outputs": [
    {
     "name": "stdout",
     "output_type": "stream",
     "text": [
      "bahman 500\n"
     ]
    }
   ],
   "source": [
    "# input :\n",
    "name = input()\n",
    "number = int(input('Enter a number:'))\n",
    "print(name, number)"
   ]
  },
  {
   "cell_type": "code",
   "execution_count": 7,
   "metadata": {},
   "outputs": [
    {
     "name": "stdout",
     "output_type": "stream",
     "text": [
      "<class 'int'>\n",
      "5.0\n",
      "<class 'float'>\n",
      "6\n"
     ]
    }
   ],
   "source": [
    "# convert variables :\n",
    "n1 = 5\n",
    "print(type(n1), float(n1), sep='\\n')\n",
    "\n",
    "n2 = 6.18\n",
    "print(type(n2), int(n2), sep='\\n')"
   ]
  },
  {
   "cell_type": "code",
   "execution_count": 18,
   "metadata": {},
   "outputs": [
    {
     "name": "stdout",
     "output_type": "stream",
     "text": [
      "** : 36\n",
      "% : 0\n",
      "/ : 3.0\n",
      "// : 3\n",
      "* : 12\n",
      "- : 4\n",
      "+ : 8\n",
      "20\n"
     ]
    }
   ],
   "source": [
    "# ops : **, %, /, //, *, -, + :\n",
    "n1 = 6\n",
    "n2 = 2\n",
    "print('** :', n1 ** n2)\n",
    "print('% :', n1 % n2)\n",
    "print('/ :', n1 / n2)\n",
    "print('// :', n1 // n2)\n",
    "print('* :', n1 * n2)\n",
    "print('- :', n1 - n2)\n",
    "print('+ :', n1 + n2)\n",
    "print(n2 + n1 * (n1 // n2 * 3) % 6 ** 2) # 1:6 ** 2 = 36, 2:() = 9, 3:6 * 9 = 54, 4:54 % 36 = 18, 5:18 + 2"
   ]
  },
  {
   "cell_type": "code",
   "execution_count": 21,
   "metadata": {},
   "outputs": [
    {
     "name": "stdout",
     "output_type": "stream",
     "text": [
      "helloworld\n",
      "helloworldhelloworld\n"
     ]
    }
   ],
   "source": [
    "# *, + in string :\n",
    "s1 = 'hello'\n",
    "s2 = 'world'\n",
    "s3 = s1 + s2\n",
    "print(s3)\n",
    "print(s3 * 2)"
   ]
  },
  {
   "cell_type": "code",
   "execution_count": 27,
   "metadata": {},
   "outputs": [
    {
     "name": "stdout",
     "output_type": "stream",
     "text": [
      "False\n",
      "True\n",
      "True\n",
      "False\n",
      "False\n",
      "True\n"
     ]
    }
   ],
   "source": [
    "# ops : ==, !=, <, >, <=, >= :\n",
    "print(5 > 6)\n",
    "print(5 < 6)\n",
    "print(5 == 5)\n",
    "print(5 == 6)\n",
    "print(5 != 5)\n",
    "print(5 != 6)"
   ]
  },
  {
   "cell_type": "code",
   "execution_count": 33,
   "metadata": {},
   "outputs": [
    {
     "name": "stdout",
     "output_type": "stream",
     "text": [
      "<class 'bool'>\n",
      "False\n",
      "False\n",
      "False\n",
      "True\n"
     ]
    }
   ],
   "source": [
    "# and, or, not :\n",
    "\"\"\"\n",
    "and:\n",
    "    True  and True  = True\n",
    "    True  and False = False\n",
    "    False and True  = False\n",
    "    False and False = False\n",
    "\n",
    "or:\n",
    "    True  or True  = True\n",
    "    True  or False = True\n",
    "    False or True  = True\n",
    "    False or False = False\n",
    "\n",
    "not:\n",
    "    not True  = False\n",
    "    not False = True\n",
    "\"\"\"\n",
    "t1 = 5 > 6\n",
    "print(type(t1), t1, sep='\\n')\n",
    "\n",
    "t2 = True\n",
    "print(not t2)\n",
    "\n",
    "t3 = t1 and t2\n",
    "print(t3)\n",
    "\n",
    "t4 = t1 or t2\n",
    "print(t4)"
   ]
  },
  {
   "cell_type": "code",
   "execution_count": 40,
   "metadata": {},
   "outputs": [
    {
     "name": "stdout",
     "output_type": "stream",
     "text": [
      "True\n"
     ]
    }
   ],
   "source": [
    "# if :\n",
    "if True:\n",
    "    print('True')\n",
    "\n",
    "if False:\n",
    "    print('False')"
   ]
  },
  {
   "cell_type": "code",
   "execution_count": 42,
   "metadata": {},
   "outputs": [
    {
     "name": "stdout",
     "output_type": "stream",
     "text": [
      "Ok\n"
     ]
    }
   ],
   "source": [
    "n1 = 5\n",
    "n2 = 6\n",
    "if n1 <= n2:\n",
    "    print('Ok')\n",
    "\n",
    "if n1 == n2:    # if n1 != n2: answer?\n",
    "    print('n1 == n2')\n",
    "\n",
    "# print(n1 + n2)    print('n1 + n2')"
   ]
  },
  {
   "cell_type": "code",
   "execution_count": 46,
   "metadata": {},
   "outputs": [
    {
     "name": "stdout",
     "output_type": "stream",
     "text": [
      "3 is integer\n"
     ]
    }
   ],
   "source": [
    "if type(3) is int:\n",
    "    print('3 is integer')\n",
    "\n",
    "if 'Hello' == 'hello': # Hello != hello\n",
    "    print('hi')"
   ]
  },
  {
   "cell_type": "code",
   "execution_count": null,
   "metadata": {},
   "outputs": [],
   "source": [
    "if True:\n",
    "    if True:\n",
    "        pass\n",
    "    else:\n",
    "        pass\n",
    "else:\n",
    "    pass"
   ]
  },
  {
   "cell_type": "code",
   "execution_count": 8,
   "metadata": {},
   "outputs": [
    {
     "name": "stdout",
     "output_type": "stream",
     "text": [
      "[]\n",
      "[]\n",
      "[1, 2, 3, 4, 5]\n",
      "['a', 'b', 'c', 'd']\n",
      "c\n",
      "5\n",
      "split = ['b', 'c', 'd']\n",
      "len = 4\n",
      "reverse list = [5, 4, 3, 2, 1]\n"
     ]
    }
   ],
   "source": [
    "# List :\n",
    "list_1 = list()\n",
    "list_2 = []\n",
    "list_3 = [1, 2, 3, 4, 5]\n",
    "list_4 = ['a', 'b', 'c', 'd']\n",
    "print(list_1, list_2, list_3, list_4, sep='\\n')\n",
    "print(list_4[2])\n",
    "print(list_3[-1])\n",
    "print('split =', list_4[1:4])\n",
    "print('len =', len(list_4))\n",
    "print('reverse list =', list_3[::-1])"
   ]
  },
  {
   "cell_type": "code",
   "execution_count": 9,
   "metadata": {},
   "outputs": [
    {
     "name": "stdout",
     "output_type": "stream",
     "text": [
      "[1, 2, 3, 4, 5, 'a', 'b', 'c', 'd']\n"
     ]
    }
   ],
   "source": [
    "# list  + :\n",
    "list_1 = [1, 2, 3, 4, 5]\n",
    "list_2 = ['a', 'b', 'c', 'd']\n",
    "list_3 = list_1 + list_2\n",
    "print(list_3)"
   ]
  },
  {
   "cell_type": "code",
   "execution_count": 10,
   "metadata": {},
   "outputs": [
    {
     "name": "stdout",
     "output_type": "stream",
     "text": [
      "[1, 2, 3, 4, 5, 'hello']\n"
     ]
    }
   ],
   "source": [
    "# list append :\n",
    "list_1 = [1, 2, 3, 4, 5]\n",
    "list_1.append('hello')\n",
    "print(list_1)"
   ]
  },
  {
   "cell_type": "code",
   "execution_count": 13,
   "metadata": {},
   "outputs": [
    {
     "name": "stdout",
     "output_type": "stream",
     "text": [
      "[1, 3, 4, 5]\n"
     ]
    }
   ],
   "source": [
    "# list remove :\n",
    "list_1 = [1, 2, 3, 4, 5]\n",
    "list_1.remove(2)\n",
    "print(list_1)"
   ]
  },
  {
   "cell_type": "code",
   "execution_count": 5,
   "metadata": {},
   "outputs": [
    {
     "name": "stdout",
     "output_type": "stream",
     "text": [
      "hello world\n",
      "hello world\n",
      "hello world\n",
      "hello world\n",
      "hello world\n",
      "0\n",
      "1\n",
      "2\n",
      "3\n",
      "4\n"
     ]
    }
   ],
   "source": [
    "# for :\n",
    "for i in range(5):\n",
    "    print('hello world')\n",
    "\n",
    "for i in range(5):\n",
    "    print(i)\n"
   ]
  },
  {
   "cell_type": "code",
   "execution_count": 6,
   "metadata": {},
   "outputs": [
    {
     "name": "stdout",
     "output_type": "stream",
     "text": [
      "5\n",
      "6\n",
      "7\n",
      "8\n",
      "9\n",
      "with step 2:\n",
      "2\n",
      "4\n",
      "6\n",
      "8\n",
      "10\n",
      "12\n",
      "14\n",
      "16\n",
      "18\n"
     ]
    }
   ],
   "source": [
    "for i in range(5, 10):\n",
    "    print(i)\n",
    "\n",
    "\n",
    "print('with step 2:')\n",
    "for i in range(2, 20, 2):\n",
    "    print(i)"
   ]
  },
  {
   "cell_type": "code",
   "execution_count": 12,
   "metadata": {},
   "outputs": [
    {
     "name": "stdout",
     "output_type": "stream",
     "text": [
      "['2', '3', '4', '5', '6']\n"
     ]
    }
   ],
   "source": [
    "# list append, for :\n",
    "lst = list()\n",
    "for i in range(5):\n",
    "    lst.append(input('Enter value:'))\n",
    "print(lst)"
   ]
  },
  {
   "cell_type": "code",
   "execution_count": 4,
   "metadata": {},
   "outputs": [
    {
     "name": "stdout",
     "output_type": "stream",
     "text": [
      "1\n",
      "2\n",
      "3\n",
      "4\n",
      "5\n"
     ]
    }
   ],
   "source": [
    "# loop in list :\n",
    "lst = [1, 2, 3, 4, 5]\n",
    "for i in lst:\n",
    "    print(i)"
   ]
  },
  {
   "cell_type": "code",
   "execution_count": 1,
   "metadata": {},
   "outputs": [
    {
     "name": "stdout",
     "output_type": "stream",
     "text": [
      "1\n",
      "3\n",
      "5\n",
      "7\n",
      "9\n",
      "11\n",
      "13\n",
      "15\n",
      "17\n",
      "19\n"
     ]
    }
   ],
   "source": [
    "# continue :\n",
    "for i in range(1, 21):\n",
    "    if i % 2 == 0:\n",
    "        continue\n",
    "    print(i)"
   ]
  },
  {
   "cell_type": "code",
   "execution_count": 3,
   "metadata": {},
   "outputs": [
    {
     "name": "stdout",
     "output_type": "stream",
     "text": [
      "0\n",
      "1\n",
      "2\n",
      "3\n",
      "4\n",
      "5\n",
      "6\n",
      "7\n",
      "8\n"
     ]
    }
   ],
   "source": [
    "# break :\n",
    "for i in range(20):\n",
    "    if i == 9:\n",
    "        break\n",
    "    print(i)"
   ]
  },
  {
   "cell_type": "code",
   "execution_count": null,
   "metadata": {},
   "outputs": [],
   "source": [
    "# pass :\n",
    "if True:\n",
    "    pass\n",
    "\n",
    "for i in range(20):\n",
    "    pass"
   ]
  },
  {
   "cell_type": "code",
   "execution_count": 9,
   "metadata": {},
   "outputs": [
    {
     "name": "stdout",
     "output_type": "stream",
     "text": [
      "<class 'tuple'> <class 'tuple'> <class 'tuple'>\n",
      "()\n",
      "()\n",
      "(1, 'hello', 921)\n",
      "hello\n"
     ]
    }
   ],
   "source": [
    "# tuple :\n",
    "t1 = tuple()\n",
    "t2 = ()\n",
    "t3 = (1, 'hello', 921)\n",
    "print(type(t1), type(t2), type(t3))\n",
    "print(t1, t2, t3, sep='\\n')\n",
    "print(t3[1])"
   ]
  },
  {
   "cell_type": "code",
   "execution_count": 17,
   "metadata": {},
   "outputs": [
    {
     "name": "stdout",
     "output_type": "stream",
     "text": [
      "default\n"
     ]
    }
   ],
   "source": [
    "# match :\n",
    "point = ()\n",
    "match point:\n",
    "    case (0, 0):\n",
    "        print('0')\n",
    "    case (0, y):\n",
    "        print('Y=', y)\n",
    "    case (x, 0):\n",
    "        print('x=', x)\n",
    "    case (x, y):\n",
    "        print('x=', x, 'y=', y)\n",
    "    case _:\n",
    "        print('default')"
   ]
  },
  {
   "cell_type": "code",
   "execution_count": 7,
   "metadata": {},
   "outputs": [
    {
     "name": "stdout",
     "output_type": "stream",
     "text": [
      "<class 'dict'> <class 'dict'> <class 'dict'>\n",
      "{}\n",
      "{}\n",
      "{'name': 'ario', 'number': 100}\n"
     ]
    }
   ],
   "source": [
    "# dict :\n",
    "d1 = dict()\n",
    "d2 = {}\n",
    "d3 = {'name':'ario', 'number':100}\n",
    "print(type(d1), type(d2), type(d3))\n",
    "print(d1, d2, d3, sep='\\n')"
   ]
  },
  {
   "cell_type": "code",
   "execution_count": 20,
   "metadata": {},
   "outputs": [
    {
     "name": "stdout",
     "output_type": "stream",
     "text": [
      "{'name': 'ario', 'number': 100, 'status': True}\n",
      "ario\n"
     ]
    }
   ],
   "source": [
    "d = {'name':'ario', 'number':100}\n",
    "\n",
    "d['status'] = True\n",
    "print(d)\n",
    "print(d['name'])"
   ]
  },
  {
   "cell_type": "code",
   "execution_count": 8,
   "metadata": {},
   "outputs": [
    {
     "name": "stdout",
     "output_type": "stream",
     "text": [
      "('name', 'ario')\n",
      "('number', 100)\n"
     ]
    }
   ],
   "source": [
    "# loop for on dict items :\n",
    "d = {'name':'ario', 'number':100}\n",
    "for i in d.items():\n",
    "    print(i)"
   ]
  },
  {
   "cell_type": "code",
   "execution_count": 22,
   "metadata": {},
   "outputs": [
    {
     "name": "stdout",
     "output_type": "stream",
     "text": [
      "name\n",
      "number\n"
     ]
    }
   ],
   "source": [
    "# loop for on dict keys :\n",
    "d = {'name':'ario', 'number':100}\n",
    "for i in d.keys():\n",
    "    print(i)"
   ]
  },
  {
   "cell_type": "code",
   "execution_count": 23,
   "metadata": {},
   "outputs": [
    {
     "name": "stdout",
     "output_type": "stream",
     "text": [
      "ario\n",
      "100\n"
     ]
    }
   ],
   "source": [
    "# loop for on dict values :\n",
    "d = {'name':'ario', 'number':100}\n",
    "for i in d.values():\n",
    "    print(i)"
   ]
  },
  {
   "cell_type": "code",
   "execution_count": 10,
   "metadata": {},
   "outputs": [
    {
     "name": "stdout",
     "output_type": "stream",
     "text": [
      "yes\n"
     ]
    }
   ],
   "source": [
    "# if on dict keys :\n",
    "d = {'name':'ario', 'number':100}\n",
    "if 'name' in d3.keys():\n",
    "    print('yes')"
   ]
  },
  {
   "cell_type": "code",
   "execution_count": 13,
   "metadata": {},
   "outputs": [
    {
     "name": "stdout",
     "output_type": "stream",
     "text": [
      "not found\n",
      "True\n"
     ]
    }
   ],
   "source": [
    "# not, is not, in not in :\n",
    "lst = [1, 2, 3, 4, 5]\n",
    "if 10 in lst:\n",
    "    print('found')\n",
    "else:\n",
    "    print('not found')\n",
    "\n",
    "if type(lst) is not tuple:\n",
    "    print('True')"
   ]
  },
  {
   "cell_type": "code",
   "execution_count": 1,
   "metadata": {},
   "outputs": [
    {
     "name": "stdout",
     "output_type": "stream",
     "text": [
      "hi\n",
      "hi\n",
      "hi\n",
      "hi\n",
      "hi\n",
      "hi\n",
      "hi\n",
      "hi\n",
      "hi\n",
      "hi\n",
      "hi\n",
      "hi\n",
      "hi\n",
      "hi\n",
      "hi\n",
      "hi\n",
      "hi\n",
      "hi\n",
      "hi\n"
     ]
    }
   ],
   "source": [
    "# while :\n",
    "ind = 0\n",
    "while True:\n",
    "    ind += 1\n",
    "    if ind == 20:\n",
    "        break\n",
    "    print('hi')"
   ]
  },
  {
   "cell_type": "code",
   "execution_count": 2,
   "metadata": {},
   "outputs": [
    {
     "name": "stdout",
     "output_type": "stream",
     "text": [
      "hello world!\n"
     ]
    }
   ],
   "source": [
    "# functions def : \n",
    "def hello():\n",
    "    print('hello world!')\n",
    "\n",
    "hello()"
   ]
  },
  {
   "cell_type": "code",
   "execution_count": 19,
   "metadata": {},
   "outputs": [
    {
     "name": "stdout",
     "output_type": "stream",
     "text": [
      "11\n"
     ]
    }
   ],
   "source": [
    "def sum(a, b):\n",
    "    n = a + b\n",
    "    print(n)\n",
    "\n",
    "sum(5, 6)"
   ]
  },
  {
   "cell_type": "code",
   "execution_count": 20,
   "metadata": {},
   "outputs": [
    {
     "name": "stdout",
     "output_type": "stream",
     "text": [
      "45\n"
     ]
    }
   ],
   "source": [
    "# def, return :\n",
    "def sum(a, b):\n",
    "    n = a + b\n",
    "    return n\n",
    "\n",
    "n1 = 5\n",
    "n2 = sum(7, 2)\n",
    "print(n1 * n2)"
   ]
  },
  {
   "cell_type": "code",
   "execution_count": 2,
   "metadata": {},
   "outputs": [
    {
     "name": "stdout",
     "output_type": "stream",
     "text": [
      "Please try again!\n",
      "Please try again!\n",
      "Please try again!\n",
      "Please try again!\n"
     ]
    },
    {
     "ename": "ValueError",
     "evalue": "invalid user response",
     "output_type": "error",
     "traceback": [
      "\u001b[1;31m---------------------------------------------------------------------------\u001b[0m",
      "\u001b[1;31mValueError\u001b[0m                                Traceback (most recent call last)",
      "\u001b[1;32mc:\\Users\\ARTAS\\VSCode Projects\\Students\\ibpy\\ibpy.ipynb Cell 29\u001b[0m in \u001b[0;36m<cell line: 13>\u001b[1;34m()\u001b[0m\n\u001b[0;32m     <a href='vscode-notebook-cell:/c%3A/Users/ARTAS/VSCode%20Projects/Students/ibpy/ibpy.ipynb#ch0000028?line=9'>10</a>\u001b[0m             \u001b[39mraise\u001b[39;00m \u001b[39mValueError\u001b[39;00m(\u001b[39m'\u001b[39m\u001b[39minvalid user response\u001b[39m\u001b[39m'\u001b[39m)\n\u001b[0;32m     <a href='vscode-notebook-cell:/c%3A/Users/ARTAS/VSCode%20Projects/Students/ibpy/ibpy.ipynb#ch0000028?line=10'>11</a>\u001b[0m         \u001b[39mprint\u001b[39m(reminder)\n\u001b[1;32m---> <a href='vscode-notebook-cell:/c%3A/Users/ARTAS/VSCode%20Projects/Students/ibpy/ibpy.ipynb#ch0000028?line=12'>13</a>\u001b[0m ask_ok(\u001b[39m'\u001b[39;49m\u001b[39mDo you really want to quit?\u001b[39;49m\u001b[39m'\u001b[39;49m)\n",
      "\u001b[1;32mc:\\Users\\ARTAS\\VSCode Projects\\Students\\ibpy\\ibpy.ipynb Cell 29\u001b[0m in \u001b[0;36mask_ok\u001b[1;34m(prompt, retries, reminder)\u001b[0m\n\u001b[0;32m      <a href='vscode-notebook-cell:/c%3A/Users/ARTAS/VSCode%20Projects/Students/ibpy/ibpy.ipynb#ch0000028?line=7'>8</a>\u001b[0m retries \u001b[39m=\u001b[39m retries \u001b[39m-\u001b[39m \u001b[39m1\u001b[39m\n\u001b[0;32m      <a href='vscode-notebook-cell:/c%3A/Users/ARTAS/VSCode%20Projects/Students/ibpy/ibpy.ipynb#ch0000028?line=8'>9</a>\u001b[0m \u001b[39mif\u001b[39;00m retries \u001b[39m<\u001b[39m \u001b[39m0\u001b[39m:\n\u001b[1;32m---> <a href='vscode-notebook-cell:/c%3A/Users/ARTAS/VSCode%20Projects/Students/ibpy/ibpy.ipynb#ch0000028?line=9'>10</a>\u001b[0m     \u001b[39mraise\u001b[39;00m \u001b[39mValueError\u001b[39;00m(\u001b[39m'\u001b[39m\u001b[39minvalid user response\u001b[39m\u001b[39m'\u001b[39m)\n\u001b[0;32m     <a href='vscode-notebook-cell:/c%3A/Users/ARTAS/VSCode%20Projects/Students/ibpy/ibpy.ipynb#ch0000028?line=10'>11</a>\u001b[0m \u001b[39mprint\u001b[39m(reminder)\n",
      "\u001b[1;31mValueError\u001b[0m: invalid user response"
     ]
    }
   ],
   "source": [
    "# def - defult argument values :\n",
    "def ask_ok(prompt, retries=4, reminder='Please try again!'):\n",
    "    while True:\n",
    "        ok = input(prompt)\n",
    "        # if in tuple or list\n",
    "        if ok in ('y', 'ye', 'yes'):\n",
    "            return True\n",
    "        if ok in ('n', 'no', 'nop', 'nope'):\n",
    "            return False\n",
    "\n",
    "        # retries = retries - 1\n",
    "        retries -= 1\n",
    "        if retries < 0:\n",
    "            # raise and ValueError\n",
    "            raise ValueError('invalid user response')\n",
    "        print(reminder)\n",
    "\n",
    "ask_ok('Do you really want to quit?')"
   ]
  },
  {
   "cell_type": "code",
   "execution_count": 4,
   "metadata": {},
   "outputs": [
    {
     "name": "stdout",
     "output_type": "stream",
     "text": [
      "5\n"
     ]
    }
   ],
   "source": [
    "i = 5\n",
    "def func(arg=i):\n",
    "    print(i)\n",
    "\n",
    "i = 6\n",
    "func()"
   ]
  },
  {
   "cell_type": "code",
   "execution_count": 7,
   "metadata": {},
   "outputs": [
    {
     "name": "stdout",
     "output_type": "stream",
     "text": [
      "[5]\n",
      "[5, 7]\n",
      "[5, 7, 0]\n"
     ]
    }
   ],
   "source": [
    "# def - append to list and return :\n",
    "\"\"\"\n",
    "اگه موقع فراخوانی تابع مثدار لیست رو ندییم تابع لیست قبلی خودش رو حفظ کرده و از اون استفاده میکنه\n",
    "\"\"\"\n",
    "def func(num, lst=[]):\n",
    "    lst.append(num)\n",
    "    return lst\n",
    "\n",
    "print(func(5))\n",
    "print(func(7))\n",
    "print(func(0))"
   ]
  },
  {
   "cell_type": "code",
   "execution_count": 11,
   "metadata": {},
   "outputs": [
    {
     "name": "stdout",
     "output_type": "stream",
     "text": [
      "[5, 7]\n",
      "[9]\n"
     ]
    }
   ],
   "source": [
    "# def - defult argument values = None :\n",
    "\"\"\"\n",
    "اگه موقع فراخوانی تابع مثدار لیست رو ندییم تابع لیست تازه ساخنه و مقدار های لیست پاک شده\n",
    "\"\"\"\n",
    "def func(num, lst=None):\n",
    "    if lst is None:\n",
    "        lst = []\n",
    "    lst.append(num)\n",
    "    return lst\n",
    "\n",
    "lst = func(5)\n",
    "print(func(7, lst))\n",
    "print(func(9))\n"
   ]
  },
  {
   "cell_type": "code",
   "execution_count": 15,
   "metadata": {},
   "outputs": [
    {
     "name": "stdout",
     "output_type": "stream",
     "text": [
      "('bahman', 'rashnu', 'kurosh', 'ario', 'bardia')\n"
     ]
    }
   ],
   "source": [
    "# def - *args :\n",
    "def show_names(*names):\n",
    "    # names is list\n",
    "    print(names)\n",
    "\n",
    "show_names('bahman', 'rashnu', 'kurosh', 'ario', 'bardia')"
   ]
  },
  {
   "cell_type": "code",
   "execution_count": 16,
   "metadata": {},
   "outputs": [
    {
     "name": "stdout",
     "output_type": "stream",
     "text": [
      "{'name': 'ario', 'number': 916, 'status': True}\n"
     ]
    }
   ],
   "source": [
    "# def - **kwargs :\n",
    "def user_details(**kwargs):\n",
    "    # kwargs is dict\n",
    "    print(kwargs)\n",
    "\n",
    "user_details(name='ario', number=916, status=True)"
   ]
  }
 ],
 "metadata": {
  "kernelspec": {
   "display_name": "Python 3.10.4 64-bit",
   "language": "python",
   "name": "python3"
  },
  "language_info": {
   "codemirror_mode": {
    "name": "ipython",
    "version": 3
   },
   "file_extension": ".py",
   "mimetype": "text/x-python",
   "name": "python",
   "nbconvert_exporter": "python",
   "pygments_lexer": "ipython3",
   "version": "3.10.4"
  },
  "orig_nbformat": 4,
  "vscode": {
   "interpreter": {
    "hash": "f00dd8a3f793a615cab4e5ef81a61e6ce77f90bb4a0cf2eeb548ee70dcc88da5"
   }
  }
 },
 "nbformat": 4,
 "nbformat_minor": 2
}
