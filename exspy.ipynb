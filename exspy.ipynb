{
 "cells": [
  {
   "cell_type": "code",
   "execution_count": 2,
   "metadata": {},
   "outputs": [
    {
     "name": "stdout",
     "output_type": "stream",
     "text": [
      "bahmanbahmanbahmanbahmanbahman\n"
     ]
    }
   ],
   "source": [
    "n1 = float(input('Enter number 1:'))\n",
    "op = input('Enter op:')\n",
    "n2 = float(input('Enter number 2:'))\n",
    "name = input('Enter name:')\n",
    "\n",
    "if op == '//':\n",
    "    n = n1 // n2\n",
    "    print(name * int(n))\n",
    "elif op == '*':\n",
    "    n = n1 * n2\n",
    "    print(name * int(n))\n",
    "elif op == '-':\n",
    "    n = n1 - n2\n",
    "    print(name * int(n))\n",
    "elif op == '+':\n",
    "    n = n1 + n2\n",
    "    print(name * int(n))\n",
    "else:\n",
    "    print('op : //, *, -, +')\n"
   ]
  },
  {
   "cell_type": "code",
   "execution_count": 1,
   "metadata": {},
   "outputs": [
    {
     "name": "stdout",
     "output_type": "stream",
     "text": [
      "username ya password eshtbah ast !\n"
     ]
    }
   ],
   "source": [
    "username = input('Enter username :')\n",
    "password = input('Enter password :')\n",
    "\n",
    "if username == 'admin' and password == '1234':\n",
    "    print('vared shodid !')\n",
    "    num_1 = int(input('Enter num 1 :'))\n",
    "    num_2 = int(input('Enter num 2 :'))\n",
    "    num_3 = int(input('Enter num 3 :'))\n",
    "    if num_1 % 2 == 0 and num_2 % 2 == 0 and num_3 % 2 == 0:\n",
    "        print('har 3 adad zoj hastand !')\n",
    "    elif num_1 % 2 == 0 or num_2 % 2 == 0 or num_3 % 2 == 0:\n",
    "        print('had aqal 1 adad zoj ast !')\n",
    "    else:\n",
    "        print('har 3 adad fard hastand !')\n",
    "else:\n",
    "    print('username ya password eshtbah ast !')"
   ]
  },
  {
   "cell_type": "code",
   "execution_count": 2,
   "metadata": {},
   "outputs": [
    {
     "name": "stdout",
     "output_type": "stream",
     "text": [
      "[('hello', 8520), ('bahman', 852), ('opz', 611), ('dez', 111), ('rashnu', 18)]\n",
      "che kasi hazf shavad:\n",
      "not found\n",
      "('hello', 8520)\n",
      "('bahman', 852)\n",
      "('opz', 611)\n",
      "('dez', 111)\n",
      "('rashnu', 18)\n"
     ]
    }
   ],
   "source": [
    "lst = []\n",
    "# insert user to list\n",
    "for i in range(5):\n",
    "    name = input('Enter name:')\n",
    "    phone = int(input('Enter number:'))\n",
    "    user = (name, phone)\n",
    "    lst.append(user)\n",
    "print(lst)\n",
    "\n",
    "print('che kasi hazf shavad:')\n",
    "remove_name = input('Enter name:')\n",
    "remove_phone = int(input('Enter phone:'))\n",
    "\n",
    "# find and remove user\n",
    "found = False\n",
    "for user in lst:\n",
    "    if remove_name == 'admin':\n",
    "        break\n",
    "    elif remove_name == user[0] and remove_phone == user[1]:\n",
    "        found = True\n",
    "        lst.remove(user)\n",
    "\n",
    "if not found:\n",
    "    print('not found')\n",
    "\n",
    "# print users\n",
    "for i in lst:\n",
    "    print(i)\n"
   ]
  },
  {
   "cell_type": "code",
   "execution_count": 3,
   "metadata": {},
   "outputs": [
    {
     "name": "stdout",
     "output_type": "stream",
     "text": [
      "2 3 4 5 6 7 8 9 10 11 12 13 14 15 16 17 18 19 "
     ]
    }
   ],
   "source": [
    "for i in range(2, 20):\n",
    "    print(i, end=' ')"
   ]
  },
  {
   "cell_type": "code",
   "execution_count": 4,
   "metadata": {},
   "outputs": [
    {
     "name": "stdout",
     "output_type": "stream",
     "text": [
      "2\n",
      "4\n",
      "6\n",
      "8\n",
      "10\n",
      "12\n",
      "14\n",
      "16\n",
      "18\n"
     ]
    }
   ],
   "source": [
    "for i in range(2, 20, 2):\n",
    "    print(i)"
   ]
  },
  {
   "cell_type": "code",
   "execution_count": 5,
   "metadata": {},
   "outputs": [
    {
     "name": "stdout",
     "output_type": "stream",
     "text": [
      "2 4 6 8 10 12 14 16 18 20 22 24 26 28 30 32 34 36 38 40 42 44 46 48 50 52 54 56 58 60 62 64 66 68 70 72 74 76 78 80 82 84 86 88 90 92 94 96 98 "
     ]
    }
   ],
   "source": [
    "def evens2_98():\n",
    "    for i in range(2, 100, 2):\n",
    "        print(i, end=' ')\n",
    "\n",
    "evens2_98()"
   ]
  },
  {
   "cell_type": "code",
   "execution_count": 6,
   "metadata": {},
   "outputs": [
    {
     "name": "stdout",
     "output_type": "stream",
     "text": [
      "1 2 3 4 5 6 7 8 9 "
     ]
    }
   ],
   "source": [
    "def bw(num):\n",
    "    for i in range(1, num):\n",
    "        print(i, end=' ')\n",
    "\n",
    "bw(10)"
   ]
  }
 ],
 "metadata": {
  "kernelspec": {
   "display_name": "Python 3.10.4 64-bit",
   "language": "python",
   "name": "python3"
  },
  "language_info": {
   "codemirror_mode": {
    "name": "ipython",
    "version": 3
   },
   "file_extension": ".py",
   "mimetype": "text/x-python",
   "name": "python",
   "nbconvert_exporter": "python",
   "pygments_lexer": "ipython3",
   "version": "3.10.4"
  },
  "orig_nbformat": 4,
  "vscode": {
   "interpreter": {
    "hash": "f00dd8a3f793a615cab4e5ef81a61e6ce77f90bb4a0cf2eeb548ee70dcc88da5"
   }
  }
 },
 "nbformat": 4,
 "nbformat_minor": 2
}
